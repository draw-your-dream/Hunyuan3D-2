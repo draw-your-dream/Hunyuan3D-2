{
  "cells": [
    {
      "cell_type": "code",
      "execution_count": null,
      "metadata": {
        "id": "G9orJY8e3ie0"
      },
      "outputs": [],
      "source": [
        "%cd /content\n",
        "!git clone https://github.com/draw-your-dream/Hunyuan3D-2.git\n",
        "%cd Hunyuan3D-2\n",
        "!pwd\n",
        "!which python3"
      ]
    },
    {
      "cell_type": "code",
      "execution_count": null,
      "metadata": {
        "id": "Nhn6zBGh3xja"
      },
      "outputs": [],
      "source": [
        "!pip3 install -q -r requirements.txt"
      ]
    },
    {
      "cell_type": "code",
      "execution_count": null,
      "metadata": {
        "id": "fR3LeJBA4Vme"
      },
      "outputs": [],
      "source": [
        "!cd hy3dgen/texgen/custom_rasterizer && python3 setup.py install"
      ]
    },
    {
      "cell_type": "code",
      "execution_count": null,
      "metadata": {
        "id": "nwJy6P7P4s_O"
      },
      "outputs": [],
      "source": [
        "%cd hy3dgen/texgen/differentiable_renderer\n",
        "!bash compile_mesh_painter.sh\n",
        "!cp mesh_processor.cpython-310-x86_64-linux-gnu.so mesh_processor.so\n",
        "%cd /content/Hunyuan3D-2"
      ]
    },
    {
      "cell_type": "code",
      "execution_count": null,
      "metadata": {
        "id": "GM8eJoMK5AwO"
      },
      "outputs": [],
      "source": [
        "!pip3 install -e ."
      ]
    },
    {
      "cell_type": "code",
      "execution_count": null,
      "metadata": {
        "colab": {
          "background_save": true
        },
        "id": "VYuZF8l_6Hwe"
      },
      "outputs": [],
      "source": [
        "!python3 gradio_app.py"
      ]
    }
  ],
  "metadata": {
    "accelerator": "GPU",
    "colab": {
      "gpuType": "A100",
      "machine_shape": "hm",
      "provenance": []
    },
    "kernelspec": {
      "display_name": "Python 3",
      "name": "python3"
    },
    "language_info": {
      "name": "python"
    }
  },
  "nbformat": 4,
  "nbformat_minor": 0
}